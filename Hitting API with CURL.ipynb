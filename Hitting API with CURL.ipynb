{
 "cells": [
  {
   "cell_type": "code",
   "execution_count": 31,
   "metadata": {},
   "outputs": [
    {
     "name": "stderr",
     "output_type": "stream",
     "text": [
      "  % Total    % Received % Xferd  Average Speed   Time    Time     Time  Current\n",
      "                                 Dload  Upload   Total   Spent    Left  Speed\n",
      "\n",
      "  0     0    0     0    0     0      0      0 --:--:-- --:--:-- --:--:--     0\n",
      "100   351  100   351    0     0   171k      0 --:--:-- --:--:-- --:--:--  171k\n"
     ]
    }
   ],
   "source": [
    "!curl -X GET http://127.0.0.1:5000/ai-quotes/6 > quote6.json"
   ]
  },
  {
   "cell_type": "code",
   "execution_count": 32,
   "metadata": {},
   "outputs": [],
   "source": [
    "import json\n",
    "\n",
    "with open('./quote6.json') as f:\n",
    "    quote6 = json.load(f)"
   ]
  },
  {
   "cell_type": "code",
   "execution_count": 35,
   "metadata": {},
   "outputs": [
    {
     "data": {
      "text/plain": [
       "{'id': 6,\n",
       " 'author': 'Alan Turing',\n",
       " 'quote': 'It seems probable that once the machine thinking method had started, it would not take long to outstrip our feeble powersâ€¦ They would be able to converse with each other to sharpen their wits. At some stage therefore, we should have to expect the machines to take control.'}"
      ]
     },
     "execution_count": 35,
     "metadata": {},
     "output_type": "execute_result"
    }
   ],
   "source": [
    "quote6"
   ]
  },
  {
   "cell_type": "code",
   "execution_count": 47,
   "metadata": {},
   "outputs": [
    {
     "name": "stdout",
     "output_type": "stream",
     "text": [
      "\"Quote with id 12 already exists\"\n"
     ]
    },
    {
     "name": "stderr",
     "output_type": "stream",
     "text": [
      "  % Total    % Received % Xferd  Average Speed   Time    Time     Time  Current\n",
      "                                 Dload  Upload   Total   Spent    Left  Speed\n",
      "\n",
      "  0     0    0     0    0     0      0      0 --:--:-- --:--:-- --:--:--     0\n",
      "100    86  100    34  100    52  17000  26000 --:--:-- --:--:-- --:--:-- 86000\n"
     ]
    }
   ],
   "source": [
    "!curl -X POST --data \"id=15&author=Marcelo Sanches&quote=I'm making an API\" \\\n",
    "    http://127.0.0.1:5000/ai-quotes/12"
   ]
  },
  {
   "cell_type": "code",
   "execution_count": 48,
   "metadata": {},
   "outputs": [
    {
     "name": "stdout",
     "output_type": "stream",
     "text": [
      "{\n",
      "    \"id\": 13,\n",
      "    \"author\": \"Marcelo Sanches\",\n",
      "    \"quote\": \"I'm making an API\""
     ]
    },
    {
     "name": "stderr",
     "output_type": "stream",
     "text": [
      "  % Total    % Received % Xferd  Average Speed   Time    Time     Time  Current\n",
      "                                 Dload  Upload   Total   Spent    Left  Speed\n",
      "\n",
      "  0     0    0     0    0     0      0      0 --:--:-- --:--:-- --:--:--     0\n",
      "100   136  100    84  100    52  28000  17333 --:--:-- --:--:-- --:--:-- 45333\n"
     ]
    },
    {
     "name": "stdout",
     "output_type": "stream",
     "text": [
      "\n",
      "}\n"
     ]
    }
   ],
   "source": [
    "!curl -X POST --data \"id=15&author=Marcelo Sanches&quote=I'm making an API\" \\\n",
    "    http://127.0.0.1:5000/ai-quotes/13"
   ]
  },
  {
   "cell_type": "code",
   "execution_count": 49,
   "metadata": {},
   "outputs": [
    {
     "name": "stdout",
     "output_type": "stream",
     "text": [
      "{\n",
      "    \"id\": 13,\n",
      "    \"author\": \"Marcelo Sanches\",\n",
      "    \"quote\": \"I'm making an API\"\n",
      "}\n"
     ]
    },
    {
     "name": "stderr",
     "output_type": "stream",
     "text": [
      "  % Total    % Received % Xferd  Average Speed   Time    Time     Time  Current\n",
      "                                 Dload  Upload   Total   Spent    Left  Speed\n",
      "\n",
      "  0     0    0     0    0     0      0      0 --:--:-- --:--:-- --:--:--     0\n",
      "100    84  100    84    0     0  42000      0 --:--:-- --:--:-- --:--:-- 42000\n"
     ]
    }
   ],
   "source": [
    "!curl -X GET http://127.0.0.1:5000/ai-quotes/13"
   ]
  },
  {
   "cell_type": "code",
   "execution_count": null,
   "metadata": {},
   "outputs": [],
   "source": []
  }
 ],
 "metadata": {
  "kernelspec": {
   "display_name": "Python 3",
   "language": "python",
   "name": "python3"
  },
  "language_info": {
   "codemirror_mode": {
    "name": "ipython",
    "version": 3
   },
   "file_extension": ".py",
   "mimetype": "text/x-python",
   "name": "python",
   "nbconvert_exporter": "python",
   "pygments_lexer": "ipython3",
   "version": "3.9.1"
  }
 },
 "nbformat": 4,
 "nbformat_minor": 4
}
