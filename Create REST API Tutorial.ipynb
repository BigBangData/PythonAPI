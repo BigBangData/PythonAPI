{
 "cells": [
  {
   "cell_type": "markdown",
   "metadata": {},
   "source": [
    "# Create a RESTful API\n",
    "\n",
    "Tutorial from [rapidapi.](https://rapidapi.com/blog/how-to-build-an-api-in-python/)"
   ]
  },
  {
   "cell_type": "code",
   "execution_count": 6,
   "metadata": {},
   "outputs": [],
   "source": [
    "from flask import Flask\n",
    "from flask_restful import Api, Resource, reqparse\n",
    "import json\n",
    "import random\n",
    "\n",
    "app = Flask(__name__)\n",
    "api = Api(app)"
   ]
  },
  {
   "cell_type": "markdown",
   "metadata": {},
   "source": [
    "`Reqparse` is Flask-RESTful request parsing interface. \n",
    "\n",
    "The quotes below mimic a pull from an API or database."
   ]
  },
  {
   "cell_type": "code",
   "execution_count": 16,
   "metadata": {},
   "outputs": [],
   "source": [
    "with open('./quotes.json') as f:\n",
    "    ai_quotes = json.load(f)"
   ]
  },
  {
   "cell_type": "code",
   "execution_count": 18,
   "metadata": {},
   "outputs": [
    {
     "data": {
      "text/plain": [
       "{'id': 0,\n",
       " 'author': 'Kevin Kelly',\n",
       " 'quote': 'The business plans of the next 10,000 startups are easy to forecast: Take X and add AI.'}"
      ]
     },
     "execution_count": 18,
     "metadata": {},
     "output_type": "execute_result"
    }
   ],
   "source": [
    "ai_quotes[0]"
   ]
  },
  {
   "cell_type": "markdown",
   "metadata": {},
   "source": [
    "The `Quote` resource class will determine the operation of the endpoints of our API. Inside the class, we will define four methods (remember: __get, post, put, delete__ for our CRUD operations)."
   ]
  },
  {
   "cell_type": "code",
   "execution_count": 4,
   "metadata": {},
   "outputs": [],
   "source": [
    "class Quote(Resource):\n",
    "    \"\"\"Recover a specific quote with an id, \n",
    "       or get a random quote if an id is not given.\n",
    "    \"\"\"\n",
    "    def get(self, id=0):\n",
    "        if id == 0:\n",
    "            return random.choice(ai_quotes), 200\n",
    "\n",
    "        for quote in ai_quotes:\n",
    "            if(quote[\"id\"] == id):\n",
    "                return quote, 200\n",
    "        return \"Quote not found\", 404\n",
    "    \n",
    "    def post(self, id):\n",
    "        \"\"\"Receives the id of the new quote as input.\n",
    "           Uses reqparse to parse the parameters that will go \n",
    "           in the body of the request (author and quote text).\n",
    "        \"\"\"\n",
    "        parser = reqparse.RequestParser()\n",
    "        parser.add_argument(\"author\")\n",
    "        parser.add_argument(\"quote\")\n",
    "        params = parser.parse_args()\n",
    "\n",
    "        for quote in ai_quotes:\n",
    "            if(id == quote[\"id\"]):\n",
    "                return f\"Quote with id {id} already exists\", 400\n",
    "\n",
    "        quote = {\n",
    "            \"id\": int(id),\n",
    "            \"author\": params[\"author\"],\n",
    "            \"quote\": params[\"quote\"]\n",
    "        }\n",
    "\n",
    "        ai_quotes.append(quote)\n",
    "        return quote, 201    \n",
    "\n",
    "    def delete(self, id):\n",
    "        \"\"\"Deletes a quote that is no longer inspirational.\n",
    "        \"\"\"\n",
    "        global ai_quotes\n",
    "        ai_quotes = [qoute for qoute in ai_quotes if qoute[\"id\"] != id]\n",
    "        return f\"Quote with id {id} is deleted.\", 200    "
   ]
  },
  {
   "cell_type": "markdown",
   "metadata": {},
   "source": [
    "Now that we have created all the methods in our Quote resource, all we need to do is to add a resource to our API, specify its routes, and run our Flask application:"
   ]
  },
  {
   "cell_type": "code",
   "execution_count": 5,
   "metadata": {},
   "outputs": [],
   "source": [
    "#api.add_resource(Quote, \"/ai-quotes\", \"/ai-quotes/\", \"/ai-quotes/<int:id>\")\n",
    "\n",
    "#if __name__ == '__main__':\n",
    "#    app.run(debug=True)"
   ]
  },
  {
   "cell_type": "code",
   "execution_count": 1,
   "metadata": {},
   "outputs": [
    {
     "name": "stdout",
     "output_type": "stream",
     "text": [
      "Create REST API Tutorial.ipynb\n",
      "app.py\n",
      "quotes.json\n"
     ]
    }
   ],
   "source": [
    "!ls"
   ]
  },
  {
   "cell_type": "code",
   "execution_count": 2,
   "metadata": {},
   "outputs": [
    {
     "name": "stdout",
     "output_type": "stream",
     "text": [
      "^C\n"
     ]
    }
   ],
   "source": [
    "!python app.py"
   ]
  },
  {
   "cell_type": "code",
   "execution_count": 3,
   "metadata": {},
   "outputs": [
    {
     "name": "stdout",
     "output_type": "stream",
     "text": [
      "{\n",
      "    \"id\": 9,\n",
      "    \"author\": \"Andrew Ng\",\n",
      "    \"quote\": \"We're making this analogy that AI is the new electricity. Electricity transformed industries: agriculture, transportation, communication, manufacturing.\"\n",
      "}\n"
     ]
    },
    {
     "name": "stderr",
     "output_type": "stream",
     "text": [
      "  % Total    % Received % Xferd  Average Speed   Time    Time     Time  Current\n",
      "                                 Dload  Upload   Total   Spent    Left  Speed\n",
      "\n",
      "  0     0    0     0    0     0      0      0 --:--:-- --:--:-- --:--:--     0\n",
      "100   212  100   212    0     0  70666      0 --:--:-- --:--:-- --:--:--  103k\n"
     ]
    }
   ],
   "source": [
    "!curl http://127.0.0.1:5000/ai-quotes"
   ]
  },
  {
   "cell_type": "markdown",
   "metadata": {},
   "source": [
    "---"
   ]
  }
 ],
 "metadata": {
  "kernelspec": {
   "display_name": "Python 3",
   "language": "python",
   "name": "python3"
  },
  "language_info": {
   "codemirror_mode": {
    "name": "ipython",
    "version": 3
   },
   "file_extension": ".py",
   "mimetype": "text/x-python",
   "name": "python",
   "nbconvert_exporter": "python",
   "pygments_lexer": "ipython3",
   "version": "3.9.1"
  }
 },
 "nbformat": 4,
 "nbformat_minor": 4
}
